{
 "cells": [
  {
   "cell_type": "markdown",
   "id": "a2da7782",
   "metadata": {},
   "source": [
    "This script is the replication of Li, Rong, and Zhao's work."
   ]
  },
  {
   "cell_type": "code",
   "execution_count": 1,
   "id": "f77d733c",
   "metadata": {},
   "outputs": [],
   "source": [
    "import numpy as np\n",
    "import matplotlib.pyplot as plt \n",
    "import time"
   ]
  },
  {
   "cell_type": "code",
   "execution_count": 2,
   "id": "af0690ae",
   "metadata": {},
   "outputs": [
    {
     "name": "stdout",
     "output_type": "stream",
     "text": [
      "[0.  0.5 1.  1.5]\n"
     ]
    }
   ],
   "source": [
    "a = 1.5\n",
    "b = 1\n",
    "r = 0.3\n",
    "mu = 0.5\n",
    "sigma = 0.3\n",
    "rho0 = -0.5\n",
    "theta = 0.8\n",
    "eta = 2\n",
    "x = 20\n",
    "y = 20\n",
    "m = 1\n",
    "T = 2\n",
    "n_step = 4\n",
    "m = 1\n",
    "U = lambda x : -np.exp(-m*x)/m #exponential utility\n",
    "inc = T/n_step\n",
    "dt = np.arange(0,T,inc)\n",
    "print(dt)"
   ]
  },
  {
   "cell_type": "markdown",
   "id": "0ab3e47f",
   "metadata": {},
   "source": [
    "## Case 1 $p = 0$"
   ]
  },
  {
   "cell_type": "markdown",
   "id": "12225275",
   "metadata": {},
   "source": [
    "The following is the analytical optimal policy.\n",
    "<center>$\\pi_t^* = \\frac{\\mu-r}{m\\sigma^2} e^{-r(T-t)}$</center>"
   ]
  },
  {
   "cell_type": "code",
   "execution_count": 32,
   "id": "7d2de0e0",
   "metadata": {},
   "outputs": [
    {
     "name": "stdout",
     "output_type": "stream",
     "text": [
      "[1.2195814135422811, 1.4169514480483854, 1.6462627126260398, 1.9126843920556842] [1.3888888888888888, 1.5325670498084292, 1.7094017094017093, 1.9323671497584543]\n"
     ]
    }
   ],
   "source": [
    "p = 0\n",
    "pi2_opt = [(mu-r)/(m*sigma**2)*np.exp(-r*(T-time)) for time in dt]\n",
    "print(pi2_opt)"
   ]
  },
  {
   "cell_type": "code",
   "execution_count": 33,
   "id": "27ea3632",
   "metadata": {},
   "outputs": [
    {
     "name": "stdout",
     "output_type": "stream",
     "text": [
      "[1.         1.1        1.2        1.21958141 1.3        1.4\n",
      " 1.41695145 1.5        1.6        1.64626271 1.7        1.8\n",
      " 1.9        1.91268439 2.         2.1        2.2        2.3       ]\n"
     ]
    }
   ],
   "source": [
    "policy = np.sort(np.append(np.arange(1,2.4,0.1),pi2_opt))\n",
    "print(policy)"
   ]
  },
  {
   "cell_type": "code",
   "execution_count": 24,
   "id": "b712c2cc",
   "metadata": {
    "scrolled": true
   },
   "outputs": [
    {
     "name": "stdout",
     "output_type": "stream",
     "text": [
      "3,2,1,0,--- 1667772374.674627 seconds ---\n"
     ]
    }
   ],
   "source": [
    "increment = 0.1\n",
    "V = np.zeros([len(dt),len(policy)])\n",
    "V2 = np.zeros([len(dt),len(policy)])\n",
    "V3 = np.zeros([len(dt),len(policy)])\n",
    "\n",
    "j = n_step-1 #iterate time\n",
    "timing = time.time()\n",
    "opt = np.empty(0)\n",
    "opt2 = np.empty(0)\n",
    "opt3 = np.empty(0)\n",
    "for start_time in np.flip(dt):\n",
    "    k = 0 #iterate policy\n",
    "    for pol in policy:\n",
    "        policy2 = np.append(pol,opt)\n",
    "        #policy3 = np.append(pol,pi2_opt[j:n_step-1])\n",
    "        n_sim = 1000000\n",
    "        increment = (T-start_time)/10\n",
    "        t = np.arange(start_time,T,increment)\n",
    "        #policy3 = [(mu-r)/(m*sigma**2)*np.exp(-r*(T-time)) for time in t[1:]]\n",
    "        #policy3 = np.append(pol,policy3)\n",
    "        policy3 = np.append(pol,pi2_opt[j+1:])\n",
    "        u = np.zeros(n_sim)\n",
    "        u2 = np.zeros(n_sim)\n",
    "        u3 = np.zeros(n_sim)\n",
    "        for i in range(n_sim):\n",
    "            Y = y\n",
    "            Y2 = y\n",
    "            Y3 = y\n",
    "            for l in range(len(t)):\n",
    "                W1 = np.random.normal(loc=0, scale=np.sqrt(increment), size=None)\n",
    "                pi = policy2[(np.floor(l/(len(t))*len(policy2)).astype(int))]\n",
    "                pi2 = policy3[(np.floor(l/(len(t))*len(policy3)).astype(int))]\n",
    "                Y = Y  +  (r*Y+pi*(mu-r))*increment  +  pi*sigma*W1\n",
    "                Y2 = Y2  +  (r*Y2+pi2*(mu-r))*increment  +  pi2*sigma*W1\n",
    "                Y3 = Y3  +  (r*Y3+pol*(mu-r))*increment  +  pol*sigma*W1\n",
    "            u[i] = U(Y)\n",
    "            u2[i] = U(Y2)\n",
    "            u3[i] = U(Y3)\n",
    "        V[j,k] = np.mean(u)\n",
    "        V2[j,k] = np.mean(u2)\n",
    "        V3[j,k] = np.mean(u3)\n",
    "        k = k+1 #iterate policy\n",
    "    opt = np.append(policy[np.argmax(V[j,:])],opt)\n",
    "    opt2 = np.append(policy[np.argmax(V2[j,:])],opt2)\n",
    "    opt3 = np.append(policy[np.argmax(V3[j,:])],opt3)\n",
    "    j = j-1 #iterate time\n",
    "    print(j+1,end=\",\")    \n",
    "print(\"--- %s hours ---\" % ((time.time() - timing)/60/60))  \n",
    "\n",
    "case1 = pi2_opt\n",
    "case1_1 = opt\n",
    "case1_2 = opt2\n",
    "case1_3 = opt3"
   ]
  },
  {
   "cell_type": "code",
   "execution_count": 25,
   "id": "ebf4ed17",
   "metadata": {},
   "outputs": [
    {
     "data": {
      "image/png": "[encoded data removed]",
      "text/plain": [
       "<Figure size 432x288 with 1 Axes>"
      ]
     },
     "metadata": {
      "needs_background": "light"
     },
     "output_type": "display_data"
    },
    {
     "name": "stdout",
     "output_type": "stream",
     "text": [
      "Analytical [1.2195814135422811, 1.4169514480483854, 1.6462627126260398, 1.9126843920556842]\n",
      "Simulation [1.3 1.5 1.8 2. ]\n",
      "Simulation2 [1.3        1.5        1.8        1.91268439]\n",
      "Simulation3 [1.7 1.8 1.9 2. ]\n"
     ]
    }
   ],
   "source": [
    "plt.plot(dt,case1_1, 'o:r',label=\"Simulation1\")\n",
    "plt.plot(dt,case1_2, 'o:g',label=\"Simulation2\")\n",
    "plt.plot(dt,case1_3, 'o:c',label=\"Simulation3\")\n",
    "plt.plot(dt,case1, 'o:b',label=\"Analytic\")\n",
    "plt.ylabel(r\"$\\pi_t$\")\n",
    "plt.xlabel(r\"$t$\")\n",
    "plt.legend()\n",
    "#plt.savefig('case1.png')\n",
    "\n",
    "plt.show()\n",
    "\n",
    "\n",
    "print(\"Analytical\",case1)\n",
    "print(\"Simulation\",case1_1)\n",
    "print(\"Simulation2\",case1_2)\n",
    "print(\"Simulation3\",case1_3)"
   ]
  },
  {
   "cell_type": "markdown",
   "id": "3f8669ed",
   "metadata": {},
   "source": [
    "## Case 2 $p \\in (0,1)$"
   ]
  },
  {
   "cell_type": "markdown",
   "id": "72b18d91",
   "metadata": {},
   "source": [
    "The following is the analytical optimal policy.\n",
    "<center>$\\pi_t^* = \\frac{\\mu-r}{m\\sigma^2} e^{-r(T-t)} - \\frac{b\\rho}{\\sigma}p$</center>"
   ]
  },
  {
   "cell_type": "code",
   "execution_count": 26,
   "id": "e0029aab",
   "metadata": {},
   "outputs": [
    {
     "name": "stdout",
     "output_type": "stream",
     "text": [
      "[2.0529147468756146, 2.2502847813817186, 2.479596045959373, 2.7460177253890174]\n"
     ]
    }
   ],
   "source": [
    "p = 0.5\n",
    "pi2_opt = [(mu-r)/(m*sigma**2)*np.exp(-r*(T-time)) - (b*rho0/sigma)*p for time in dt]\n",
    "print(pi2_opt)"
   ]
  },
  {
   "cell_type": "code",
   "execution_count": 28,
   "id": "95f8139e",
   "metadata": {},
   "outputs": [
    {
     "name": "stdout",
     "output_type": "stream",
     "text": [
      "[1.8        1.9        2.         2.05291475 2.1        2.2\n",
      " 2.25028478 2.3        2.4        2.47959605 2.5        2.6\n",
      " 2.7        2.74601773 2.8        2.9        3.         3.1       ]\n"
     ]
    }
   ],
   "source": [
    "policy = np.sort(np.append(np.arange(1.8,3.2,0.1),pi2_opt))\n",
    "print(policy)"
   ]
  },
  {
   "cell_type": "code",
   "execution_count": 30,
   "id": "c84a2e9a",
   "metadata": {},
   "outputs": [
    {
     "name": "stdout",
     "output_type": "stream",
     "text": [
      "3,2,1,0,--- 1667806799.633919 seconds ---\n"
     ]
    }
   ],
   "source": [
    "increment = 0.1\n",
    "V = np.zeros([len(dt),len(policy)])\n",
    "V2 = np.zeros([len(dt),len(policy)])\n",
    "V3 = np.zeros([len(dt),len(policy)])\n",
    "\n",
    "j = n_step-1 #iterate time\n",
    "start_time = time.time()\n",
    "opt = np.empty(0)\n",
    "opt2 = np.empty(0)\n",
    "opt3 = np.empty(0)\n",
    "for start_time in np.flip(dt):\n",
    "    k = 0 #iterate policy\n",
    "    for pol in policy:\n",
    "        policy2 = np.append(pol,opt)\n",
    "        n_sim = 1000000\n",
    "        increment = (T-start_time)/10\n",
    "        t = np.arange(start_time,T,increment)\n",
    "        policy3 = [(mu-r)/(m*sigma**2)*np.exp(-r*(T-time))- (b*rho0/sigma)*p for time in t[1:]]\n",
    "        policy3 = np.append(pol,policy3)\n",
    "        u = np.zeros(n_sim)\n",
    "        u2 = np.zeros(n_sim)\n",
    "        u3 = np.zeros(n_sim)\n",
    "        for i in range(n_sim):\n",
    "            Y = y\n",
    "            Y2 = y\n",
    "            Y3 = y\n",
    "            for l in range(len(t)):\n",
    "                W0 = np.random.normal(loc=0, scale=np.sqrt(increment), size=None)\n",
    "                W1 = np.random.normal(loc=0, scale=np.sqrt(increment), size=None)\n",
    "                W1 = rho0*W0 + np.sqrt(1-rho0**2)*W1\n",
    "                pi = policy2[(np.floor(l/len(t)*len(policy2)).astype(int))]\n",
    "                pi2 = pi2 = policy3[(np.floor(l/(len(t))*len(policy3)).astype(int))]\n",
    "                Y = Y  +  (r*Y+pi*(mu-r)+eta*p*a)*increment  +  pi*sigma*W1 +  b*p*W0\n",
    "                Y2 = Y2  +  (r*Y2+pi2*(mu-r)+eta*p*a)*increment  +  pi2*sigma*W1 +  b*p*W0\n",
    "                Y3 = Y3  +  (r*Y3+pol*(mu-r)+eta*p*a)*increment  +  pol*sigma*W1 +  b*p*W0\n",
    "            u[i] = U(Y)\n",
    "            u2[i] = U(Y2)\n",
    "            u3[i] = U(Y3)\n",
    "        V[j,k] = np.mean(u)\n",
    "        V2[j,k] = np.mean(u2)\n",
    "        V3[j,k] = np.mean(u3)\n",
    "        k = k+1 #iterate policy\n",
    "    opt = np.append(policy[np.argmax(V[j,:])],opt)\n",
    "    opt2 = np.append(policy[np.argmax(V2[j,:])],opt2)\n",
    "    opt3 = np.append(policy[np.argmax(V3[j,:])],opt3)\n",
    "    j = j-1 #iterate time\n",
    "    print(j+1,end=\",\")    \n",
    "print(\"--- %s hours ---\" % ((time.time() - timing)/60/60))    \n",
    "\n",
    "case2 = pi2_opt\n",
    "case2_1 = opt\n",
    "case2_2 = opt2\n",
    "case2_3 = opt3"
   ]
  },
  {
   "cell_type": "code",
   "execution_count": 31,
   "id": "097bd87e",
   "metadata": {},
   "outputs": [
    {
     "data": {
      "image/png": "[encoded data removed]",
      "text/plain": [
       "<Figure size 432x288 with 1 Axes>"
      ]
     },
     "metadata": {
      "needs_background": "light"
     },
     "output_type": "display_data"
    },
    {
     "name": "stdout",
     "output_type": "stream",
     "text": [
      "Analytical [2.0529147468756146, 2.2502847813817186, 2.479596045959373, 2.7460177253890174]\n",
      "Simulation [2.2 2.3 2.6 2.8]\n",
      "Simulation2 [2.2 2.3 2.6 2.8]\n",
      "Simulation3 [2.47959605 2.6        2.74601773 2.8       ]\n"
     ]
    }
   ],
   "source": [
    "plt.plot(dt,case2_1, 'o:r',label=\"Simulation1\")\n",
    "plt.plot(dt,case2_2, 'o:g',label=\"Simulation2\")\n",
    "plt.plot(dt,case2_3, 'o:c',label=\"Simulation3\")\n",
    "plt.plot(dt,case2, 'o:b',label=\"Analytic\")\n",
    "plt.ylabel(r\"$\\pi_t$\")\n",
    "plt.xlabel(r\"$t$\")\n",
    "plt.legend()\n",
    "#plt.savefig('case2.png')\n",
    "plt.show()\n",
    "\n",
    "\n",
    "print(\"Analytical\",case2)\n",
    "print(\"Simulation\",case2_1)\n",
    "print(\"Simulation2\",case2_2)\n",
    "print(\"Simulation3\",case2_3)"
   ]
  },
  {
   "cell_type": "markdown",
   "id": "5704dec5",
   "metadata": {},
   "source": [
    "## Case 3 $p = 1$"
   ]
  },
  {
   "cell_type": "markdown",
   "id": "148da87a",
   "metadata": {},
   "source": [
    "The following is the analytical optimal policy.\n",
    "<center>$\\pi_t^* = \\frac{\\mu-r}{m\\sigma^2} e^{-r(T-t)} - \\frac{b\\rho}{\\sigma}$</center>"
   ]
  },
  {
   "cell_type": "code",
   "execution_count": 9,
   "id": "4d433ba7",
   "metadata": {},
   "outputs": [
    {
     "name": "stdout",
     "output_type": "stream",
     "text": [
      "[2.886248080208948, 3.083618114715052, 3.3129293792927066, 3.579351058722351]\n"
     ]
    }
   ],
   "source": [
    "p = 1\n",
    "pi2_opt = [(mu-r)/(m*sigma**2)*np.exp(-r*(T-time)) - (b*rho0/sigma) for time in dt]\n",
    "print(pi2_opt)"
   ]
  },
  {
   "cell_type": "code",
   "execution_count": 13,
   "id": "c4336ad7",
   "metadata": {},
   "outputs": [
    {
     "name": "stdout",
     "output_type": "stream",
     "text": [
      "[2.8        2.88624808 2.9        3.         3.08361811 3.1\n",
      " 3.2        3.3        3.31292938 3.4        3.5        3.57935106\n",
      " 3.6        3.7        3.8       ]\n"
     ]
    }
   ],
   "source": [
    "policy = np.sort(np.append(np.arange(2.8,3.9,0.1),pi2_opt))\n",
    "print(policy)"
   ]
  },
  {
   "cell_type": "code",
   "execution_count": 14,
   "id": "f8c298a7",
   "metadata": {},
   "outputs": [
    {
     "name": "stdout",
     "output_type": "stream",
     "text": [
      "3,2,1,0,--- 5.88932170662615 hours ---\n"
     ]
    }
   ],
   "source": [
    "increment = 0.5\n",
    "V = np.zeros([len(dt),len(policy)])\n",
    "V2 = np.zeros([len(dt),len(policy)])\n",
    "V3 = np.zeros([len(dt),len(policy)])\n",
    "\n",
    "j = n_step-1 #iterate time\n",
    "timing = time.time()\n",
    "opt = np.empty(0)\n",
    "opt2 = np.empty(0)\n",
    "opt3 = np.empty(0)\n",
    "for start_time in np.flip(dt):\n",
    "    k = 0 #iterate policy\n",
    "    for pol in policy:\n",
    "        policy2 = np.append(pol,opt)\n",
    "        n_sim = 2500000\n",
    "        increment = (T-start_time)/10\n",
    "        t = np.arange(start_time,T,increment)\n",
    "        policy3 = np.append(pol,pi2_opt[j+1:])\n",
    "        u = np.zeros(n_sim)\n",
    "        u2 = np.zeros(n_sim)\n",
    "        u3 = np.zeros(n_sim)\n",
    "        for i in range(n_sim):\n",
    "            Y = y\n",
    "            Y2 = y\n",
    "            Y3 = y\n",
    "            for l in range(len(t)):\n",
    "                W0 = np.random.normal(loc=0, scale=np.sqrt(increment), size=None)\n",
    "                W1 = np.random.normal(loc=0, scale=np.sqrt(increment), size=None)\n",
    "                W1 = rho0*W0 + np.sqrt(1-rho0**2)*W1\n",
    "                pi = policy2[(np.floor(l/len(t)*len(policy2)).astype(int))]\n",
    "                pi2 = policy3[(np.floor(l/(len(t))*len(policy3)).astype(int))]\n",
    "                Y = Y  +  (r*Y+pi*(mu-r)+eta*p*a)*increment  +  pi*sigma*W1 +  b*p*W0\n",
    "                Y2 = Y2  +  (r*Y2+pi2*(mu-r)+eta*p*a)*increment  +  pi2*sigma*W1 +  b*p*W0\n",
    "                Y3 = Y3  +  (r*Y3+pol*(mu-r)+eta*p*a)*increment  +  pol*sigma*W1 +  b*p*W0\n",
    "            u[i] = U(Y)\n",
    "            u2[i] = U(Y2)\n",
    "            u3[i] = U(Y3)\n",
    "        V[j,k] = np.mean(u)\n",
    "        V2[j,k] = np.mean(u2)\n",
    "        V3[j,k] = np.mean(u3)\n",
    "        k = k+1 #iterate policy\n",
    "    opt = np.append(policy[np.argmax(V[j,:])],opt)\n",
    "    opt2 = np.append(policy[np.argmax(V2[j,:])],opt2)\n",
    "    opt3 = np.append(policy[np.argmax(V3[j,:])],opt3)\n",
    "    j = j-1 #iterate time\n",
    "    print(j+1,end=\",\")    \n",
    "print(\"--- %s hours ---\" % ((time.time() - timing)/60/60))  \n",
    "\n",
    "case3 = pi2_opt\n",
    "case3_1 = opt\n",
    "case3_2 = opt2\n",
    "case3_3 = opt3"
   ]
  },
  {
   "cell_type": "code",
   "execution_count": 15,
   "id": "d3033f84",
   "metadata": {},
   "outputs": [
    {
     "data": {
      "image/png": "[encoded data removed]",
      "text/plain": [
       "<Figure size 432x288 with 1 Axes>"
      ]
     },
     "metadata": {
      "needs_background": "light"
     },
     "output_type": "display_data"
    },
    {
     "name": "stdout",
     "output_type": "stream",
     "text": [
      "Analytical [2.886248080208948, 3.083618114715052, 3.3129293792927066, 3.579351058722351]\n",
      "Simulation [3.08361811 3.4        3.6        3.8       ]\n",
      "Simulation2 [3.08361811 3.3        3.6        3.8       ]\n",
      "Simulation3 [3.3 3.4 3.6 3.8]\n"
     ]
    }
   ],
   "source": [
    "plt.plot(dt,case3_1, 'o:r',label=\"Simulation1\")\n",
    "plt.plot(dt,case3_2, 'o:g',label=\"Simulation2\")\n",
    "plt.plot(dt,case3_3, 'o:c',label=\"Simulation3\")\n",
    "plt.plot(dt,case3, 'o:b',label=\"Analytic\")\n",
    "plt.ylabel(r\"$\\pi_t$\")\n",
    "plt.xlabel(r\"$t$\")\n",
    "plt.legend()\n",
    "#plt.savefig('case3.png')\n",
    "plt.show()\n",
    "\n",
    "\n",
    "\n",
    "print(\"Analytical\",case3)\n",
    "print(\"Simulation\",case3_1)\n",
    "print(\"Simulation2\",case3_2)\n",
    "print(\"Simulation3\",case3_3)"
   ]
  },
  {
   "cell_type": "code",
   "execution_count": null,
   "id": "e20937c8",
   "metadata": {},
   "outputs": [],
   "source": []
  }
 ],
 "metadata": {
  "kernelspec": {
   "display_name": "Python 3 (ipykernel)",
   "language": "python",
   "name": "python3"
  },
  "language_info": {
   "codemirror_mode": {
    "name": "ipython",
    "version": 3
   },
   "file_extension": ".py",
   "mimetype": "text/x-python",
   "name": "python",
   "nbconvert_exporter": "python",
   "pygments_lexer": "ipython3",
   "version": "3.9.12"
  }
 },
 "nbformat": 4,
 "nbformat_minor": 5
}

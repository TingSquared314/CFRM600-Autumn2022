{
 "cells": [
  {
   "cell_type": "code",
   "execution_count": 1,
   "id": "f77d733c",
   "metadata": {},
   "outputs": [],
   "source": [
    "import numpy as np\n",
    "import matplotlib.pyplot as plt \n",
    "import time\n",
    "from numpy import linalg as LA"
   ]
  },
  {
   "cell_type": "code",
   "execution_count": 2,
   "id": "af0690ae",
   "metadata": {},
   "outputs": [
    {
     "name": "stdout",
     "output_type": "stream",
     "text": [
      "[0.  0.5 1.  1.5]\n"
     ]
    }
   ],
   "source": [
    "a = 1.5\n",
    "b = 1\n",
    "r = 0.3\n",
    "mu = 0.5\n",
    "sigma = 0.3\n",
    "rho01 = -0.5\n",
    "rho02 = 0.1\n",
    "rho12 = -0.25\n",
    "beta = 0.5\n",
    "theta = 0.8\n",
    "eta = 2\n",
    "x = 20\n",
    "y = 20\n",
    "m = 1\n",
    "T = 2\n",
    "n_step = 4\n",
    "m = 1\n",
    "U = lambda x : -np.exp(-m*x)/m #exponential utility\n",
    "inc = T/n_step\n",
    "dt = np.arange(0,T,inc)\n",
    "print(dt)"
   ]
  },
  {
   "cell_type": "code",
   "execution_count": 3,
   "id": "73c6436e",
   "metadata": {},
   "outputs": [
    {
     "name": "stdout",
     "output_type": "stream",
     "text": [
      "[1.6032748  0.47577635 0.92094885]\n"
     ]
    }
   ],
   "source": [
    "Corr = [[1, rho01, rho02], [rho01, 1, rho12], [rho02, rho12, 1]]\n",
    "eigval, eigvec = LA.eig(Corr)\n",
    "print(eigval)\n",
    "L_T = np.linalg.cholesky(Corr).T\n",
    "\n",
    "def CorrW(sd,n=10**6):\n",
    "    W = np.random.normal(loc=0, scale=sd, size=[n,3])\n",
    "    W_corr = np.dot(W,L_T)\n",
    "    W0 = W_corr[:,0]\n",
    "    W1 = W_corr[:,1]\n",
    "    W2 = W_corr[:,2]\n",
    "    \n",
    "    return W0,W1,W2"
   ]
  },
  {
   "cell_type": "markdown",
   "id": "0ab3e47f",
   "metadata": {},
   "source": [
    "## Case 1 $p = 0$"
   ]
  },
  {
   "cell_type": "markdown",
   "id": "12225275",
   "metadata": {},
   "source": [
    "The following is the analytical optimal policy.\n",
    "<center>$\\pi_t^* = \\frac{\\mu-r}{m\\sigma^2} e^{-r(T-t)} - \\frac{\\beta\\rho_{0,2}}{\\sigma}$</center>"
   ]
  },
  {
   "cell_type": "code",
   "execution_count": 17,
   "id": "7d2de0e0",
   "metadata": {},
   "outputs": [
    {
     "name": "stdout",
     "output_type": "stream",
     "text": [
      "[1.0529147468756144, 1.2502847813817186, 1.479596045959373, 1.7460177253890174]\n"
     ]
    }
   ],
   "source": [
    "p = 0\n",
    "pi2_opt = [(mu-r)/(m*sigma**2)*np.exp(-r*(T-time)) - (beta*rho02)/sigma for time in dt]\n",
    "print(pi2_opt)"
   ]
  },
  {
   "cell_type": "code",
   "execution_count": 20,
   "id": "27ea3632",
   "metadata": {},
   "outputs": [
    {
     "name": "stdout",
     "output_type": "stream",
     "text": [
      "[1.         1.05291475 1.1        1.2        1.25028478 1.3\n",
      " 1.4        1.47959605 1.5        1.6        1.7        1.74601773\n",
      " 1.8        1.9        2.         2.1        2.2       ]\n"
     ]
    }
   ],
   "source": [
    "policy = np.sort(np.append(np.arange(1,2.2,0.1),pi2_opt))\n",
    "print(policy)"
   ]
  },
  {
   "cell_type": "code",
   "execution_count": 21,
   "id": "b712c2cc",
   "metadata": {
    "scrolled": true
   },
   "outputs": [
    {
     "name": "stdout",
     "output_type": "stream",
     "text": [
      "3,2,1,0,--- 2.281476695537567 hours ---\n"
     ]
    }
   ],
   "source": [
    "V = np.zeros([len(dt),len(policy)])\n",
    "V2 = np.zeros([len(dt),len(policy)])\n",
    "#V3 = np.zeros([len(dt),len(policy)])\n",
    "\n",
    "j = n_step-1 #iterate time\n",
    "timing = time.time()\n",
    "opt = np.empty(0)\n",
    "opt2 = np.empty(0)\n",
    "#opt3 = np.empty(0)\n",
    "for start_time in np.flip(dt):\n",
    "    k = 0 #iterate policy\n",
    "    for pol in policy:\n",
    "        policy2 = np.append(pol,opt)\n",
    "        n_sim = 2000000\n",
    "        increment = (T-start_time)/10\n",
    "        t = np.arange(start_time,T,increment)\n",
    "        #policy3 = [(mu-r)/(m*sigma**2)*np.exp(-r*(T-time)) - (beta*rho02)/sigma for time in t[1:]]\n",
    "        #policy3 = np.append(pol,policy3)\n",
    "        policy3 = np.append(pol,pi2_opt[j+1:])\n",
    "        u = np.zeros(n_sim)\n",
    "        u2 = np.zeros(n_sim)\n",
    "        #u3 = np.zeros(n_sim)\n",
    "        for i in range(n_sim):\n",
    "            Y = y\n",
    "            Y2 = y\n",
    "            #Y3 = y\n",
    "            W0,W1,W2 = CorrW(np.sqrt(increment),n=len(t))\n",
    "            for l in range(len(t)):\n",
    "                pi = policy2[(np.floor(l/(len(t))*len(policy2)).astype(int))]\n",
    "                pi2 = policy3[(np.floor(l/(len(t))*len(policy3)).astype(int))]\n",
    "                Y = Y  +  (r*Y+pi*(mu-r))*increment  +  pi*sigma*W0[l] + beta*W2[l]\n",
    "                Y2 = Y2  +  (r*Y2+pi2*(mu-r))*increment  +  pi2*sigma*W0[l] + beta*W2[l]\n",
    "                #Y3 = Y3  +  (r*Y3+pol*(mu-r))*increment  +  pol*sigma*W0[l] + beta*W2[l]\n",
    "            u[i] = U(Y)\n",
    "            u2[i] = U(Y2)\n",
    "            #u3[i] = U(Y3)\n",
    "        V[j,k] = np.mean(u)\n",
    "        V2[j,k] = np.mean(u2)\n",
    "        #V3[j,k] = np.mean(u3)\n",
    "        k = k+1 #iterate policy\n",
    "    opt = np.append(policy[np.argmax(V[j,:])],opt)\n",
    "    opt2 = np.append(policy[np.argmax(V2[j,:])],opt2)\n",
    "    #opt3 = np.append(policy[np.argmax(V3[j,:])],opt3)\n",
    "    j = j-1 #iterate time\n",
    "    print(j+1,end=\",\")    \n",
    "print(\"--- %s hours ---\" % ((time.time() - timing)/60/60))\n",
    "\n",
    "case1 = pi2_opt\n",
    "case1_1 = opt\n",
    "case1_2 = opt2\n",
    "#case1_3 = opt3"
   ]
  },
  {
   "cell_type": "code",
   "execution_count": 22,
   "id": "bec9b80f",
   "metadata": {},
   "outputs": [
    {
     "data": {
      "image/png": "[encoded data removed]",
      "text/plain": [
       "<Figure size 432x288 with 1 Axes>"
      ]
     },
     "metadata": {
      "needs_background": "light"
     },
     "output_type": "display_data"
    },
    {
     "name": "stdout",
     "output_type": "stream",
     "text": [
      "Analytical [1.0529147468756144, 1.2502847813817186, 1.479596045959373, 1.7460177253890174]\n",
      "Simulation [1.1 1.4 1.6 1.8]\n",
      "Simulation2 [1.1 1.4 1.6 1.8]\n"
     ]
    }
   ],
   "source": [
    "plt.plot(dt,case1_1, 'o:r',label=\"Simulation1\")\n",
    "plt.plot(dt,case1_2, 'o:g',label=\"Simulation2\")\n",
    "#plt.plot(dt,case1_3, 'o:c',label=\"Simulation3\")\n",
    "plt.plot(dt,case1, 'o:b',label=\"Analytic\")\n",
    "plt.ylabel(r\"$\\pi_t$\")\n",
    "plt.xlabel(r\"$t$\")\n",
    "plt.legend()\n",
    "#plt.savefig('case1.png')\n",
    "\n",
    "plt.show()\n",
    "\n",
    "\n",
    "print(\"Analytical\",case1)\n",
    "print(\"Simulation\",case1_1)\n",
    "print(\"Simulation2\",case1_2)\n",
    "#print(\"Simulation3\",case1_3)"
   ]
  },
  {
   "cell_type": "markdown",
   "id": "3f8669ed",
   "metadata": {},
   "source": [
    "## Case 2 $p \\in (0,1)$"
   ]
  },
  {
   "cell_type": "markdown",
   "id": "72b18d91",
   "metadata": {},
   "source": [
    "The following is the analytical optimal policy.\n",
    "<center>$\\pi_t^* = \\frac{\\mu-r}{m\\sigma^2} e^{-r(T-t)} - \\frac{b\\rho_{1,2}}{\\sigma}p  - \\frac{\\beta\\rho_{0,2}}{\\sigma}$</center>"
   ]
  },
  {
   "cell_type": "code",
   "execution_count": 23,
   "id": "e0029aab",
   "metadata": {},
   "outputs": [
    {
     "name": "stdout",
     "output_type": "stream",
     "text": [
      "[1.8862480802089479, 2.083618114715052, 2.3129293792927066, 2.579351058722351]\n"
     ]
    }
   ],
   "source": [
    "p = 0.5\n",
    "pi2_opt = [(mu-r)/(m*sigma**2)*np.exp(-r*(T-time)) - (b*rho01/sigma)*p  - (beta*rho02)/sigma for time in dt]\n",
    "print(pi2_opt)"
   ]
  },
  {
   "cell_type": "code",
   "execution_count": 24,
   "id": "95f8139e",
   "metadata": {},
   "outputs": [
    {
     "name": "stdout",
     "output_type": "stream",
     "text": [
      "[1.8        1.88624808 1.9        2.         2.08361811 2.1\n",
      " 2.2        2.3        2.31292938 2.4        2.5        2.57935106\n",
      " 2.6        2.7        2.8       ]\n"
     ]
    }
   ],
   "source": [
    "policy = np.sort(np.append(np.arange(1.8,2.9,0.1),pi2_opt))\n",
    "print(policy)"
   ]
  },
  {
   "cell_type": "code",
   "execution_count": 25,
   "id": "c84a2e9a",
   "metadata": {},
   "outputs": [
    {
     "name": "stdout",
     "output_type": "stream",
     "text": [
      "3,2,1,0,--- 2.2551293504900403 hours ---\n"
     ]
    }
   ],
   "source": [
    "V = np.zeros([len(dt),len(policy)])\n",
    "V2 = np.zeros([len(dt),len(policy)])\n",
    "#V3 = np.zeros([len(dt),len(policy)])\n",
    "\n",
    "j = n_step-1 #iterate time\n",
    "timing = time.time()\n",
    "opt = np.empty(0)\n",
    "opt2 = np.empty(0)\n",
    "#opt3 = np.empty(0)\n",
    "for start_time in np.flip(dt):\n",
    "    k = 0 #iterate policy\n",
    "    for pol in policy:\n",
    "        policy2 = np.append(pol,opt)\n",
    "        n_sim = 2000000\n",
    "        increment = (T-start_time)/10\n",
    "        t = np.arange(start_time,T,increment)\n",
    "        #policy3 = [(mu-r)/(m*sigma**2)*np.exp(-r*(T-time)) - (b*rho01/sigma)*p  - (beta*rho02)/sigma for time in t[1:]]\n",
    "        #policy3 = np.append(pol,policy3)\n",
    "        policy3 = np.append(pol,pi2_opt[j+1:])\n",
    "        u = np.zeros(n_sim)\n",
    "        u2 = np.zeros(n_sim)\n",
    "        #u3 = np.zeros(n_sim)\n",
    "        for i in range(n_sim):\n",
    "            Y = y\n",
    "            Y2 = y\n",
    "            #Y3 = y\n",
    "            W0,W1,W2 = CorrW(np.sqrt(increment),n=len(t))\n",
    "            for l in range(len(t)):\n",
    "                pi = policy2[(np.floor(l/len(t)*len(policy2)).astype(int))]\n",
    "                pi2 = policy3[(np.floor(l/len(t)*len(policy3)).astype(int))]\n",
    "                Y = Y  +  (r*Y+pi*(mu-r)+eta*p*a)*increment  +  pi*sigma*W0[l] +  b*p*W1[l] + beta*W2[l]\n",
    "                Y2 = Y2  +  (r*Y2+pi2*(mu-r)+eta*p*a)*increment  +  pi2*sigma*W0[l] +  b*p*W1[l] + beta*W2[l]\n",
    "                #Y3 = Y3  +  (r*Y3+pol*(mu-r)+eta*p*a)*increment  +  pol*sigma*W0[l] +  b*p*W1[l] + beta*W2[l]\n",
    "            u[i] = U(Y)\n",
    "            u2[i] = U(Y2)\n",
    "            #u3[i] = U(Y3)\n",
    "        V[j,k] = np.mean(u)\n",
    "        V2[j,k] = np.mean(u2)\n",
    "        #V3[j,k] = np.mean(u3)\n",
    "        k = k+1 #iterate policy\n",
    "    opt = np.append(policy[np.argmax(V[j,:])],opt)\n",
    "    opt2 = np.append(policy[np.argmax(V2[j,:])],opt2)\n",
    "    #opt3 = np.append(policy[np.argmax(V3[j,:])],opt3)\n",
    "    j = j-1 #iterate time\n",
    "    print(j+1,end=\",\")    \n",
    "print(\"--- %s hours ---\" % ((time.time() - timing)/60/60))  \n",
    "\n",
    "case2 = pi2_opt\n",
    "case2_1 = opt\n",
    "case2_2 = opt2\n",
    "#case2_3 = opt3"
   ]
  },
  {
   "cell_type": "code",
   "execution_count": 26,
   "id": "0a8f6efd",
   "metadata": {},
   "outputs": [
    {
     "data": {
      "image/png": "[encoded data removed]",
      "text/plain": [
       "<Figure size 432x288 with 1 Axes>"
      ]
     },
     "metadata": {
      "needs_background": "light"
     },
     "output_type": "display_data"
    },
    {
     "name": "stdout",
     "output_type": "stream",
     "text": [
      "Analytical [1.8862480802089479, 2.083618114715052, 2.3129293792927066, 2.579351058722351]\n",
      "Simulation [2.  2.2 2.4 2.7]\n",
      "Simulation2 [2.  2.2 2.4 2.7]\n"
     ]
    }
   ],
   "source": [
    "plt.plot(dt,case2_1, 'o:r',label=\"Simulation1\")\n",
    "plt.plot(dt,case2_2, 'o:g',label=\"Simulation2\")\n",
    "#plt.plot(dt,case2_3, 'o:c',label=\"Simulation3\")\n",
    "plt.plot(dt,case2, 'o:b',label=\"Analytic\")\n",
    "plt.ylabel(r\"$\\pi_t$\")\n",
    "plt.xlabel(r\"$t$\")\n",
    "plt.legend()\n",
    "#plt.savefig('case2.png')\n",
    "plt.show()\n",
    "\n",
    "\n",
    "print(\"Analytical\",case2)\n",
    "print(\"Simulation\",case2_1)\n",
    "print(\"Simulation2\",case2_2)\n",
    "#print(\"Simulation3\",case2_3)"
   ]
  },
  {
   "cell_type": "markdown",
   "id": "5704dec5",
   "metadata": {},
   "source": [
    "## Case 3 $p = 1$"
   ]
  },
  {
   "cell_type": "markdown",
   "id": "148da87a",
   "metadata": {},
   "source": [
    "The following is the analytical optimal policy.\n",
    "<center>$\\pi_t^* = \\frac{\\mu-r}{m\\sigma^2} e^{-r(T-t)} - \\frac{b\\rho_{0,1}}{\\sigma}  - \\frac{\\beta\\rho_{0,2}}{\\sigma}$</center>"
   ]
  },
  {
   "cell_type": "code",
   "execution_count": 27,
   "id": "4d433ba7",
   "metadata": {},
   "outputs": [
    {
     "name": "stdout",
     "output_type": "stream",
     "text": [
      "[2.7195814135422816, 2.9169514480483856, 3.14626271262604, 3.4126843920556844]\n"
     ]
    }
   ],
   "source": [
    "p = 1\n",
    "pi2_opt = [(mu-r)/(m*sigma**2)*np.exp(-r*(T-time)) - (b*rho01/sigma)  - (beta*rho02)/sigma for time in dt]\n",
    "print(pi2_opt)"
   ]
  },
  {
   "cell_type": "code",
   "execution_count": 28,
   "id": "c4336ad7",
   "metadata": {},
   "outputs": [
    {
     "name": "stdout",
     "output_type": "stream",
     "text": [
      "[2.6        2.7        2.71958141 2.8        2.9        2.91695145\n",
      " 3.         3.1        3.14626271 3.2        3.3        3.4\n",
      " 3.41268439 3.5        3.6        3.7        3.8       ]\n"
     ]
    }
   ],
   "source": [
    "policy = np.sort(np.append(np.arange(2.6,3.9,0.1),pi2_opt))\n",
    "print(policy)"
   ]
  },
  {
   "cell_type": "code",
   "execution_count": 29,
   "id": "f8c298a7",
   "metadata": {},
   "outputs": [
    {
     "name": "stdout",
     "output_type": "stream",
     "text": [
      "3,2,1,0,--- 2.9856574138667846 hours ---\n"
     ]
    }
   ],
   "source": [
    "V = np.zeros([len(dt),len(policy)])\n",
    "V2 = np.zeros([len(dt),len(policy)])\n",
    "#V3 = np.zeros([len(dt),len(policy)])\n",
    "\n",
    "j = n_step-1 #iterate time\n",
    "timing = time.time()\n",
    "opt = np.empty(0)\n",
    "opt2 = np.empty(0)\n",
    "#opt3 = np.empty(0)\n",
    "for start_time in np.flip(dt):\n",
    "    k = 0 #iterate policy\n",
    "    for pol in policy:\n",
    "        policy2 = np.append(pol,opt)\n",
    "        n_sim = 2000000\n",
    "        increment = (T-start_time)/10\n",
    "        t = np.arange(start_time,T,increment)\n",
    "        #policy3 = [(mu-r)/(m*sigma**2)*np.exp(-r*(T-time)) - (b*rho01/sigma)  - (beta*rho02)/sigma for time in t[1:]]\n",
    "        #policy3 = np.append(pol,policy3)\n",
    "        policy3 = np.append(pol,pi2_opt[j+1:])\n",
    "        u = np.zeros(n_sim)\n",
    "        u2 = np.zeros(n_sim)\n",
    "        #u3 = np.zeros(n_sim)\n",
    "        for i in range(n_sim):\n",
    "            Y = y\n",
    "            Y2 = y\n",
    "            #Y3 = y\n",
    "            W0,W1,W2 = CorrW(np.sqrt(increment),n=len(t))\n",
    "            for l in range(len(t)):\n",
    "                pi = policy2[(np.floor(l/len(t)*len(policy2)).astype(int))]\n",
    "                pi2 = policy3[(np.floor(l/len(t)*len(policy3)).astype(int))]\n",
    "                Y = Y  +  (r*Y+pi*(mu-r)+eta*p*a)*increment  +  pi*sigma*W0[l] +  b*p*W1[l] + beta*W2[l]\n",
    "                Y2 = Y2  +  (r*Y2+pi2*(mu-r)+eta*p*a)*increment  +  pi2*sigma*W0[l] +  b*p*W1[l] + beta*W2[l]\n",
    "                #Y3 = Y3  +  (r*Y3+pol*(mu-r)+eta*p*a)*increment  +  pol*sigma*W0[l] +  b*p*W1[l] + beta*W2[l]\n",
    "            u[i] = U(Y)\n",
    "            u2[i] = U(Y2)\n",
    "            #u3[i] = U(Y3)\n",
    "        V[j,k] = np.mean(u)\n",
    "        V2[j,k] = np.mean(u2)\n",
    "        #V3[j,k] = np.mean(u3)\n",
    "        k = k+1 #iterate policy\n",
    "    opt = np.append(policy[np.argmax(V[j,:])],opt)\n",
    "    opt2 = np.append(policy[np.argmax(V2[j,:])],opt2)\n",
    "    #opt3 = np.append(policy[np.argmax(V3[j,:])],opt3)\n",
    "    j = j-1 #iterate time\n",
    "    print(j+1,end=\",\")    \n",
    "print(\"--- %s hours ---\" % ((time.time() - timing)/60/60))\n",
    "\n",
    "case3 = pi2_opt\n",
    "case3_1 = opt\n",
    "case3_2 = opt2\n",
    "#case3_3 = opt3"
   ]
  },
  {
   "cell_type": "code",
   "execution_count": 30,
   "id": "fb1807be",
   "metadata": {},
   "outputs": [
    {
     "data": {
      "image/png": "[encoded data removed]",
      "text/plain": [
       "<Figure size 432x288 with 1 Axes>"
      ]
     },
     "metadata": {
      "needs_background": "light"
     },
     "output_type": "display_data"
    },
    {
     "name": "stdout",
     "output_type": "stream",
     "text": [
      "Analytical [2.7195814135422816, 2.9169514480483856, 3.14626271262604, 3.4126843920556844]\n",
      "Simulation [3.  2.9 3.1 3.6]\n",
      "Simulation2 [3.  2.9 3.1 3.6]\n"
     ]
    }
   ],
   "source": [
    "plt.plot(dt,case3_1, 'o:r',label=\"Simulation1\")\n",
    "plt.plot(dt,case3_2, 'o:g',label=\"Simulation2\")\n",
    "#plt.plot(dt,case3_3, 'o:c',label=\"Simulation3\")\n",
    "plt.plot(dt,case3, 'o:b',label=\"Analytic\")\n",
    "plt.ylabel(r\"$\\pi_t$\")\n",
    "plt.xlabel(r\"$t$\")\n",
    "plt.legend()\n",
    "#plt.savefig('case3.png')\n",
    "plt.show()\n",
    "\n",
    "\n",
    "\n",
    "print(\"Analytical\",case3)\n",
    "print(\"Simulation\",case3_1)\n",
    "print(\"Simulation2\",case3_2)\n",
    "#print(\"Simulation3\",case3_3)"
   ]
  },
  {
   "cell_type": "code",
   "execution_count": null,
   "id": "523a5c14",
   "metadata": {},
   "outputs": [],
   "source": []
  }
 ],
 "metadata": {
  "kernelspec": {
   "display_name": "Python 3 (ipykernel)",
   "language": "python",
   "name": "python3"
  },
  "language_info": {
   "codemirror_mode": {
    "name": "ipython",
    "version": 3
   },
   "file_extension": ".py",
   "mimetype": "text/x-python",
   "name": "python",
   "nbconvert_exporter": "python",
   "pygments_lexer": "ipython3",
   "version": "3.9.12"
  }
 },
 "nbformat": 4,
 "nbformat_minor": 5
}
